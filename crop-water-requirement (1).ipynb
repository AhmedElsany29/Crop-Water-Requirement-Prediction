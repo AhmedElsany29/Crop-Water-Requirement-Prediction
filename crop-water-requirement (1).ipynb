{
 "cells": [
  {
   "cell_type": "code",
   "execution_count": 3,
   "id": "77c70625",
   "metadata": {
    "execution": {
     "iopub.execute_input": "2024-11-10T01:08:56.276313Z",
     "iopub.status.busy": "2024-11-10T01:08:56.275875Z",
     "iopub.status.idle": "2024-11-10T01:08:56.281072Z",
     "shell.execute_reply": "2024-11-10T01:08:56.279945Z",
     "shell.execute_reply.started": "2024-11-10T01:08:56.276275Z"
    },
    "trusted": true
   },
   "outputs": [],
   "source": [
    "import numpy as np \n",
    "\n",
    "import pandas as pd"
   ]
  },
  {
   "cell_type": "code",
   "execution_count": 4,
   "id": "552b4a4e",
   "metadata": {
    "execution": {
     "iopub.execute_input": "2024-11-10T01:08:56.287259Z",
     "iopub.status.busy": "2024-11-10T01:08:56.286151Z",
     "iopub.status.idle": "2024-11-10T01:08:56.308328Z",
     "shell.execute_reply": "2024-11-10T01:08:56.307270Z",
     "shell.execute_reply.started": "2024-11-10T01:08:56.287213Z"
    },
    "trusted": true
   },
   "outputs": [
    {
     "data": {
      "text/html": [
       "<div>\n",
       "<style scoped>\n",
       "    .dataframe tbody tr th:only-of-type {\n",
       "        vertical-align: middle;\n",
       "    }\n",
       "\n",
       "    .dataframe tbody tr th {\n",
       "        vertical-align: top;\n",
       "    }\n",
       "\n",
       "    .dataframe thead th {\n",
       "        text-align: right;\n",
       "    }\n",
       "</style>\n",
       "<table border=\"1\" class=\"dataframe\">\n",
       "  <thead>\n",
       "    <tr style=\"text-align: right;\">\n",
       "      <th></th>\n",
       "      <th>CROP TYPE</th>\n",
       "      <th>SOIL TYPE</th>\n",
       "      <th>REGION</th>\n",
       "      <th>TEMPERATURE</th>\n",
       "      <th>WEATHER CONDITION</th>\n",
       "      <th>WATER REQUIREMENT</th>\n",
       "    </tr>\n",
       "  </thead>\n",
       "  <tbody>\n",
       "    <tr>\n",
       "      <th>0</th>\n",
       "      <td>BANANA</td>\n",
       "      <td>DRY</td>\n",
       "      <td>DESERT</td>\n",
       "      <td>10-20</td>\n",
       "      <td>NORMAL</td>\n",
       "      <td>8.75</td>\n",
       "    </tr>\n",
       "    <tr>\n",
       "      <th>1</th>\n",
       "      <td>BANANA</td>\n",
       "      <td>DRY</td>\n",
       "      <td>DESERT</td>\n",
       "      <td>10-20</td>\n",
       "      <td>SUNNY</td>\n",
       "      <td>10.25</td>\n",
       "    </tr>\n",
       "    <tr>\n",
       "      <th>2</th>\n",
       "      <td>BANANA</td>\n",
       "      <td>DRY</td>\n",
       "      <td>DESERT</td>\n",
       "      <td>10-20</td>\n",
       "      <td>WINDY</td>\n",
       "      <td>9.65</td>\n",
       "    </tr>\n",
       "    <tr>\n",
       "      <th>3</th>\n",
       "      <td>BANANA</td>\n",
       "      <td>DRY</td>\n",
       "      <td>DESERT</td>\n",
       "      <td>10-20</td>\n",
       "      <td>RAINY</td>\n",
       "      <td>0.75</td>\n",
       "    </tr>\n",
       "    <tr>\n",
       "      <th>4</th>\n",
       "      <td>BANANA</td>\n",
       "      <td>DRY</td>\n",
       "      <td>DESERT</td>\n",
       "      <td>20-30</td>\n",
       "      <td>NORMAL</td>\n",
       "      <td>9.85</td>\n",
       "    </tr>\n",
       "  </tbody>\n",
       "</table>\n",
       "</div>"
      ],
      "text/plain": [
       "  CROP TYPE SOIL TYPE  REGION TEMPERATURE WEATHER CONDITION  WATER REQUIREMENT\n",
       "0    BANANA       DRY  DESERT       10-20            NORMAL               8.75\n",
       "1    BANANA       DRY  DESERT       10-20             SUNNY              10.25\n",
       "2    BANANA       DRY  DESERT       10-20             WINDY               9.65\n",
       "3    BANANA       DRY  DESERT       10-20             RAINY               0.75\n",
       "4    BANANA       DRY  DESERT       20-30            NORMAL               9.85"
      ]
     },
     "execution_count": 4,
     "metadata": {},
     "output_type": "execute_result"
    }
   ],
   "source": [
    "crops = pd.read_csv(\"DATASET - Sheet1.csv\")\n",
    "\n",
    "potato_crop = crops\n",
    "\n",
    "potato_crop.head()"
   ]
  },
  {
   "cell_type": "code",
   "execution_count": null,
   "id": "8e9b76b8",
   "metadata": {},
   "outputs": [],
   "source": []
  },
  {
   "cell_type": "code",
   "execution_count": 5,
   "id": "6d94d3dd",
   "metadata": {
    "execution": {
     "iopub.execute_input": "2024-11-10T01:08:56.310493Z",
     "iopub.status.busy": "2024-11-10T01:08:56.310155Z",
     "iopub.status.idle": "2024-11-10T01:08:56.322254Z",
     "shell.execute_reply": "2024-11-10T01:08:56.320954Z",
     "shell.execute_reply.started": "2024-11-10T01:08:56.310459Z"
    },
    "trusted": true
   },
   "outputs": [
    {
     "name": "stdout",
     "output_type": "stream",
     "text": [
      "<class 'pandas.core.frame.DataFrame'>\n",
      "RangeIndex: 2880 entries, 0 to 2879\n",
      "Data columns (total 6 columns):\n",
      " #   Column             Non-Null Count  Dtype  \n",
      "---  ------             --------------  -----  \n",
      " 0   CROP TYPE          2880 non-null   object \n",
      " 1   SOIL TYPE          2880 non-null   object \n",
      " 2   REGION             2880 non-null   object \n",
      " 3   TEMPERATURE        2880 non-null   object \n",
      " 4   WEATHER CONDITION  2880 non-null   object \n",
      " 5   WATER REQUIREMENT  2880 non-null   float64\n",
      "dtypes: float64(1), object(5)\n",
      "memory usage: 135.1+ KB\n"
     ]
    }
   ],
   "source": [
    "potato_crop.info()"
   ]
  },
  {
   "cell_type": "code",
   "execution_count": 6,
   "id": "0cc928c3",
   "metadata": {
    "execution": {
     "iopub.execute_input": "2024-11-10T01:08:56.323832Z",
     "iopub.status.busy": "2024-11-10T01:08:56.323451Z",
     "iopub.status.idle": "2024-11-10T01:08:56.336150Z",
     "shell.execute_reply": "2024-11-10T01:08:56.335156Z",
     "shell.execute_reply.started": "2024-11-10T01:08:56.323794Z"
    },
    "trusted": true
   },
   "outputs": [
    {
     "data": {
      "text/plain": [
       "CROP TYPE            0\n",
       "SOIL TYPE            0\n",
       "REGION               0\n",
       "TEMPERATURE          0\n",
       "WEATHER CONDITION    0\n",
       "WATER REQUIREMENT    0\n",
       "dtype: int64"
      ]
     },
     "execution_count": 6,
     "metadata": {},
     "output_type": "execute_result"
    }
   ],
   "source": [
    "potato_crop.isnull().sum()"
   ]
  },
  {
   "cell_type": "code",
   "execution_count": null,
   "id": "befecb1a",
   "metadata": {
    "trusted": true
   },
   "outputs": [],
   "source": []
  },
  {
   "cell_type": "code",
   "execution_count": 7,
   "id": "b6cfddb9",
   "metadata": {
    "execution": {
     "iopub.execute_input": "2024-11-10T01:08:56.338276Z",
     "iopub.status.busy": "2024-11-10T01:08:56.337553Z",
     "iopub.status.idle": "2024-11-10T01:08:56.353610Z",
     "shell.execute_reply": "2024-11-10T01:08:56.352503Z",
     "shell.execute_reply.started": "2024-11-10T01:08:56.338227Z"
    },
    "trusted": true
   },
   "outputs": [
    {
     "data": {
      "text/html": [
       "<div>\n",
       "<style scoped>\n",
       "    .dataframe tbody tr th:only-of-type {\n",
       "        vertical-align: middle;\n",
       "    }\n",
       "\n",
       "    .dataframe tbody tr th {\n",
       "        vertical-align: top;\n",
       "    }\n",
       "\n",
       "    .dataframe thead th {\n",
       "        text-align: right;\n",
       "    }\n",
       "</style>\n",
       "<table border=\"1\" class=\"dataframe\">\n",
       "  <thead>\n",
       "    <tr style=\"text-align: right;\">\n",
       "      <th></th>\n",
       "      <th>CROP TYPE</th>\n",
       "      <th>SOIL TYPE</th>\n",
       "      <th>REGION</th>\n",
       "      <th>TEMPERATURE</th>\n",
       "      <th>WEATHER CONDITION</th>\n",
       "      <th>WATER REQUIREMENT</th>\n",
       "    </tr>\n",
       "  </thead>\n",
       "  <tbody>\n",
       "    <tr>\n",
       "      <th>0</th>\n",
       "      <td>BANANA</td>\n",
       "      <td>DRY</td>\n",
       "      <td>DESERT</td>\n",
       "      <td>10-20</td>\n",
       "      <td>NORMAL</td>\n",
       "      <td>8.75</td>\n",
       "    </tr>\n",
       "    <tr>\n",
       "      <th>1</th>\n",
       "      <td>BANANA</td>\n",
       "      <td>DRY</td>\n",
       "      <td>DESERT</td>\n",
       "      <td>10-20</td>\n",
       "      <td>SUNNY</td>\n",
       "      <td>10.25</td>\n",
       "    </tr>\n",
       "    <tr>\n",
       "      <th>2</th>\n",
       "      <td>BANANA</td>\n",
       "      <td>DRY</td>\n",
       "      <td>DESERT</td>\n",
       "      <td>10-20</td>\n",
       "      <td>WINDY</td>\n",
       "      <td>9.65</td>\n",
       "    </tr>\n",
       "    <tr>\n",
       "      <th>3</th>\n",
       "      <td>BANANA</td>\n",
       "      <td>DRY</td>\n",
       "      <td>DESERT</td>\n",
       "      <td>10-20</td>\n",
       "      <td>RAINY</td>\n",
       "      <td>0.75</td>\n",
       "    </tr>\n",
       "    <tr>\n",
       "      <th>4</th>\n",
       "      <td>BANANA</td>\n",
       "      <td>DRY</td>\n",
       "      <td>DESERT</td>\n",
       "      <td>20-30</td>\n",
       "      <td>NORMAL</td>\n",
       "      <td>9.85</td>\n",
       "    </tr>\n",
       "  </tbody>\n",
       "</table>\n",
       "</div>"
      ],
      "text/plain": [
       "  CROP TYPE SOIL TYPE  REGION TEMPERATURE WEATHER CONDITION  WATER REQUIREMENT\n",
       "0    BANANA       DRY  DESERT       10-20            NORMAL               8.75\n",
       "1    BANANA       DRY  DESERT       10-20             SUNNY              10.25\n",
       "2    BANANA       DRY  DESERT       10-20             WINDY               9.65\n",
       "3    BANANA       DRY  DESERT       10-20             RAINY               0.75\n",
       "4    BANANA       DRY  DESERT       20-30            NORMAL               9.85"
      ]
     },
     "execution_count": 7,
     "metadata": {},
     "output_type": "execute_result"
    }
   ],
   "source": [
    "potato_crop.head()"
   ]
  },
  {
   "cell_type": "code",
   "execution_count": 8,
   "id": "f3efe351-847e-4d7f-ba2f-015a77b3df77",
   "metadata": {
    "execution": {
     "iopub.execute_input": "2024-11-10T01:08:56.356431Z",
     "iopub.status.busy": "2024-11-10T01:08:56.356064Z",
     "iopub.status.idle": "2024-11-10T01:08:56.371493Z",
     "shell.execute_reply": "2024-11-10T01:08:56.370405Z",
     "shell.execute_reply.started": "2024-11-10T01:08:56.356393Z"
    },
    "trusted": true
   },
   "outputs": [],
   "source": [
    "from sklearn.preprocessing import LabelEncoder\n",
    "le = LabelEncoder()\n",
    "object_columns = potato_crop.select_dtypes(include='object').columns\n",
    "for col in object_columns:\n",
    "    potato_crop[col] = le.fit_transform(potato_crop[col])"
   ]
  },
  {
   "cell_type": "code",
   "execution_count": 9,
   "id": "805d4698",
   "metadata": {
    "execution": {
     "iopub.execute_input": "2024-11-10T01:08:56.373308Z",
     "iopub.status.busy": "2024-11-10T01:08:56.372896Z",
     "iopub.status.idle": "2024-11-10T01:08:56.382543Z",
     "shell.execute_reply": "2024-11-10T01:08:56.381596Z",
     "shell.execute_reply.started": "2024-11-10T01:08:56.373270Z"
    },
    "trusted": true
   },
   "outputs": [],
   "source": [
    "X = potato_crop.drop(\"WATER REQUIREMENT\", axis = 1)\n",
    "\n",
    "y = potato_crop[\"WATER REQUIREMENT\"]"
   ]
  },
  {
   "cell_type": "code",
   "execution_count": 10,
   "id": "d98e3390",
   "metadata": {
    "execution": {
     "iopub.execute_input": "2024-11-10T01:10:08.012874Z",
     "iopub.status.busy": "2024-11-10T01:10:08.011885Z",
     "iopub.status.idle": "2024-11-10T01:10:08.021167Z",
     "shell.execute_reply": "2024-11-10T01:10:08.019903Z",
     "shell.execute_reply.started": "2024-11-10T01:10:08.012830Z"
    },
    "trusted": true
   },
   "outputs": [],
   "source": [
    "from sklearn.model_selection import train_test_split\n",
    "\n",
    "X_train, X_test, y_train, y_test = train_test_split(X, y, test_size = 0.2,random_state=42)"
   ]
  },
  {
   "cell_type": "code",
   "execution_count": 11,
   "id": "35861564",
   "metadata": {
    "execution": {
     "iopub.execute_input": "2024-11-10T01:10:08.440472Z",
     "iopub.status.busy": "2024-11-10T01:10:08.440029Z",
     "iopub.status.idle": "2024-11-10T01:10:08.457099Z",
     "shell.execute_reply": "2024-11-10T01:10:08.456133Z",
     "shell.execute_reply.started": "2024-11-10T01:10:08.440433Z"
    },
    "trusted": true
   },
   "outputs": [
    {
     "data": {
      "text/plain": [
       "array([[ 1.,  0.,  0., ...,  0., 11.,  3.],\n",
       "       [ 0.,  1.,  0., ...,  0., 14.,  0.],\n",
       "       [ 0.,  1.,  0., ...,  1.,  3.,  0.],\n",
       "       ...,\n",
       "       [ 0.,  0.,  1., ...,  1.,  6.,  2.],\n",
       "       [ 0.,  0.,  1., ...,  1.,  5.,  3.],\n",
       "       [ 0.,  1.,  0., ...,  0., 10.,  3.]])"
      ]
     },
     "execution_count": 11,
     "metadata": {},
     "output_type": "execute_result"
    }
   ],
   "source": [
    "from sklearn.preprocessing import OneHotEncoder\n",
    "\n",
    "from sklearn.compose import ColumnTransformer\n",
    "\n",
    "\n",
    "\n",
    "one = OneHotEncoder(handle_unknown = \"ignore\")\n",
    "\n",
    "categorical_features = [\"SOIL TYPE\", \"REGION\", \"WEATHER CONDITION\"]\n",
    "\n",
    "transformer = ColumnTransformer([(\"one\", one, categorical_features)], remainder = \"passthrough\")\n",
    "\n",
    "\n",
    "\n",
    "transformed_X_train = transformer.fit_transform(X_train)\n",
    "\n",
    "transformed_X_train"
   ]
  },
  {
   "cell_type": "code",
   "execution_count": 12,
   "id": "52c9ac2b",
   "metadata": {
    "execution": {
     "iopub.execute_input": "2024-11-10T01:10:08.707007Z",
     "iopub.status.busy": "2024-11-10T01:10:08.705957Z",
     "iopub.status.idle": "2024-11-10T01:10:08.713950Z",
     "shell.execute_reply": "2024-11-10T01:10:08.712999Z",
     "shell.execute_reply.started": "2024-11-10T01:10:08.706940Z"
    },
    "trusted": true
   },
   "outputs": [
    {
     "data": {
      "text/plain": [
       "(2304, 13)"
      ]
     },
     "execution_count": 12,
     "metadata": {},
     "output_type": "execute_result"
    }
   ],
   "source": [
    "transformed_X_train.shape"
   ]
  },
  {
   "cell_type": "code",
   "execution_count": 13,
   "id": "d5f0f8a8",
   "metadata": {
    "execution": {
     "iopub.execute_input": "2024-11-10T01:10:09.051306Z",
     "iopub.status.busy": "2024-11-10T01:10:09.050560Z",
     "iopub.status.idle": "2024-11-10T01:10:09.059307Z",
     "shell.execute_reply": "2024-11-10T01:10:09.058087Z",
     "shell.execute_reply.started": "2024-11-10T01:10:09.051263Z"
    },
    "trusted": true
   },
   "outputs": [
    {
     "data": {
      "text/plain": [
       "WEATHER CONDITION\n",
       "0    725\n",
       "2    721\n",
       "3    717\n",
       "1    717\n",
       "Name: count, dtype: int64"
      ]
     },
     "execution_count": 13,
     "metadata": {},
     "output_type": "execute_result"
    }
   ],
   "source": [
    "X[\"WEATHER CONDITION\"].value_counts()"
   ]
  },
  {
   "cell_type": "code",
   "execution_count": 14,
   "id": "e4335d95",
   "metadata": {
    "execution": {
     "iopub.execute_input": "2024-11-10T01:10:09.292937Z",
     "iopub.status.busy": "2024-11-10T01:10:09.292255Z",
     "iopub.status.idle": "2024-11-10T01:10:09.301142Z",
     "shell.execute_reply": "2024-11-10T01:10:09.300191Z",
     "shell.execute_reply.started": "2024-11-10T01:10:09.292898Z"
    },
    "trusted": true
   },
   "outputs": [
    {
     "data": {
      "text/plain": [
       "SOIL TYPE\n",
       "0    960\n",
       "1    960\n",
       "2    960\n",
       "Name: count, dtype: int64"
      ]
     },
     "execution_count": 14,
     "metadata": {},
     "output_type": "execute_result"
    }
   ],
   "source": [
    "X[\"SOIL TYPE\"].value_counts()"
   ]
  },
  {
   "cell_type": "code",
   "execution_count": 15,
   "id": "ab994477",
   "metadata": {
    "execution": {
     "iopub.execute_input": "2024-11-10T01:10:09.604790Z",
     "iopub.status.busy": "2024-11-10T01:10:09.603761Z",
     "iopub.status.idle": "2024-11-10T01:10:09.613329Z",
     "shell.execute_reply": "2024-11-10T01:10:09.612048Z",
     "shell.execute_reply.started": "2024-11-10T01:10:09.604732Z"
    },
    "trusted": true
   },
   "outputs": [
    {
     "data": {
      "text/plain": [
       "REGION\n",
       "0    720\n",
       "2    720\n",
       "3    720\n",
       "1    720\n",
       "Name: count, dtype: int64"
      ]
     },
     "execution_count": 15,
     "metadata": {},
     "output_type": "execute_result"
    }
   ],
   "source": [
    "X[\"REGION\"].value_counts()"
   ]
  },
  {
   "cell_type": "code",
   "execution_count": 16,
   "id": "acb39683",
   "metadata": {
    "execution": {
     "iopub.execute_input": "2024-11-10T01:10:09.841013Z",
     "iopub.status.busy": "2024-11-10T01:10:09.839912Z",
     "iopub.status.idle": "2024-11-10T01:10:09.854378Z",
     "shell.execute_reply": "2024-11-10T01:10:09.852943Z",
     "shell.execute_reply.started": "2024-11-10T01:10:09.840959Z"
    },
    "trusted": true
   },
   "outputs": [
    {
     "data": {
      "text/plain": [
       "array([[ 0.,  1.,  0., ...,  0.,  2.,  1.],\n",
       "       [ 0.,  1.,  0., ...,  0.,  3.,  3.],\n",
       "       [ 0.,  1.,  0., ...,  0., 12.,  2.],\n",
       "       ...,\n",
       "       [ 0.,  0.,  1., ...,  1.,  8.,  3.],\n",
       "       [ 0.,  0.,  1., ...,  0.,  0.,  0.],\n",
       "       [ 1.,  0.,  0., ...,  0.,  7.,  0.]])"
      ]
     },
     "execution_count": 16,
     "metadata": {},
     "output_type": "execute_result"
    }
   ],
   "source": [
    "transformed_X_test = transformer.transform(X_test)\n",
    "\n",
    "transformed_X_test"
   ]
  },
  {
   "cell_type": "code",
   "execution_count": 17,
   "id": "d3f3bca4",
   "metadata": {
    "execution": {
     "iopub.execute_input": "2024-11-10T01:10:11.012421Z",
     "iopub.status.busy": "2024-11-10T01:10:11.011939Z",
     "iopub.status.idle": "2024-11-10T01:10:11.021157Z",
     "shell.execute_reply": "2024-11-10T01:10:11.020171Z",
     "shell.execute_reply.started": "2024-11-10T01:10:11.012367Z"
    },
    "trusted": true
   },
   "outputs": [
    {
     "data": {
      "text/plain": [
       "(576, 13)"
      ]
     },
     "execution_count": 17,
     "metadata": {},
     "output_type": "execute_result"
    }
   ],
   "source": [
    "transformed_X_test.shape"
   ]
  },
  {
   "cell_type": "code",
   "execution_count": 18,
   "id": "5b57323a",
   "metadata": {
    "execution": {
     "iopub.execute_input": "2024-11-10T01:10:11.411519Z",
     "iopub.status.busy": "2024-11-10T01:10:11.410765Z",
     "iopub.status.idle": "2024-11-10T01:10:11.914840Z",
     "shell.execute_reply": "2024-11-10T01:10:11.913822Z",
     "shell.execute_reply.started": "2024-11-10T01:10:11.411475Z"
    },
    "trusted": true
   },
   "outputs": [
    {
     "data": {
      "text/plain": [
       "91.3637866617568"
      ]
     },
     "execution_count": 18,
     "metadata": {},
     "output_type": "execute_result"
    }
   ],
   "source": [
    "from sklearn.ensemble import RandomForestRegressor\n",
    "\n",
    "model = RandomForestRegressor()\n",
    "\n",
    "model.fit(transformed_X_train, y_train)\n",
    "\n",
    "model.score(transformed_X_test, y_test)*100"
   ]
  },
  {
   "cell_type": "code",
   "execution_count": 19,
   "id": "e45ad93e",
   "metadata": {
    "execution": {
     "iopub.execute_input": "2024-11-10T01:10:12.131512Z",
     "iopub.status.busy": "2024-11-10T01:10:12.130502Z",
     "iopub.status.idle": "2024-11-10T01:10:12.160716Z",
     "shell.execute_reply": "2024-11-10T01:10:12.159667Z",
     "shell.execute_reply.started": "2024-11-10T01:10:12.131454Z"
    },
    "trusted": true
   },
   "outputs": [
    {
     "data": {
      "text/plain": [
       "array([ 0.251     ,  7.4628    , 10.6607    ,  6.5271    ,  5.6446    ,\n",
       "        0.195     ,  4.4758    ,  6.7697    ,  4.9434    ,  9.4446    ,\n",
       "        3.869     ,  0.91125   ,  2.5808    ,  8.6644    , 11.934     ,\n",
       "       20.427     ,  3.7602    ,  1.871     ,  0.4527    , 13.7845    ,\n",
       "        6.3444    ,  7.5032    ,  5.6174    ,  0.8029    ,  7.9585    ,\n",
       "        7.37805   ,  5.4492    ,  5.1158    , 11.3121    ,  5.8992    ,\n",
       "        6.5789    , 10.2146    ,  8.1631    ,  0.61      ,  5.0522    ,\n",
       "       13.9844    ,  0.107     ,  5.6193    ,  0.1       ,  1.63533333,\n",
       "        7.5912    ,  3.7998    ,  5.9172    ,  8.7643    ,  8.4622    ,\n",
       "        7.38615   ,  0.8865    ,  6.66      ,  7.19795   ,  9.1944    ,\n",
       "        7.4572    ,  0.357     ,  5.7162    ,  8.4776    ,  3.7363    ,\n",
       "        3.625     ,  2.5505    ,  8.7967    ,  0.119     ,  9.19995   ,\n",
       "        8.3556    ,  5.6152    ,  8.436     ,  0.46325   ,  5.07315   ,\n",
       "        4.18665   ,  7.7868    ,  5.0017    ,  4.8985    ,  5.55625   ,\n",
       "       16.718     ,  8.282     ,  7.1063    ,  2.4394    ,  4.1722    ,\n",
       "        5.3398    ,  3.12195   ,  6.0683    ,  0.2585    ,  5.3062    ,\n",
       "        6.402     ,  6.95715   ,  0.139     ,  5.5265    ,  3.6192    ,\n",
       "        2.97925   ,  2.8405    ,  0.4265    ,  6.3893    ,  5.5456    ,\n",
       "        6.63095   ,  5.3468    ,  4.3497    ,  0.333     ,  4.3649    ,\n",
       "        6.29      ,  5.576     ,  5.8771    ,  9.3567    ,  6.7682    ,\n",
       "        7.82405   ,  0.243     ,  5.3172    ,  7.239     , 11.3252    ,\n",
       "        0.112     ,  3.5       ,  7.5414    ,  6.6001    ,  0.581     ,\n",
       "       10.143     ,  0.6925    ,  8.7239    ,  3.296     ,  9.311     ,\n",
       "        7.7444    ,  6.8038    ,  5.5526    ,  8.26515   , 18.325     ,\n",
       "        5.4768    ,  9.0233    ,  0.4795    ,  9.5106    ,  3.96995   ,\n",
       "       10.7644    ,  0.262     ,  6.346     ,  6.4502    ,  4.7123    ,\n",
       "        6.1157    ,  6.9249    , 12.71875   , 11.00905   ,  4.2987    ,\n",
       "        0.184     , 11.005     ,  4.751     ,  7.8616    ,  1.3365    ,\n",
       "        7.9743    ,  6.2785    ,  1.6165    ,  7.261     , 18.3467    ,\n",
       "        0.6836    ,  5.8196    ,  6.0824    ,  7.2735    , 10.1148    ,\n",
       "       14.876     ,  0.274     ,  6.7646    ,  9.6869    ,  1.2387    ,\n",
       "        8.4295    ,  1.924     ,  3.6197    ,  6.6096    ,  4.41775   ,\n",
       "       10.5055    , 15.202     ,  0.4295    ,  8.6734    ,  0.7298    ,\n",
       "        5.9656    ,  6.6025    ,  0.117     ,  2.8054    ,  1.186     ,\n",
       "        6.1517    ,  8.1069    ,  8.8432    ,  5.2235    ,  0.6414    ,\n",
       "        0.5717    ,  9.0717    ,  9.1066    ,  0.485     ,  0.5258    ,\n",
       "        8.6788    ,  5.2711    , 10.245     ,  5.5456    ,  4.05975   ,\n",
       "        1.2696    ,  3.13275   ,  8.82525   ,  8.7734    ,  9.1655    ,\n",
       "        7.5001    , 10.9324    ,  0.104     ,  7.6496    ,  0.16      ,\n",
       "        0.103     ,  7.4282    ,  6.2986    ,  8.67105   ,  4.3762    ,\n",
       "        9.3548    ,  7.6148    ,  0.3205    ,  6.932     , 10.559     ,\n",
       "        5.2358    ,  4.7209    , 11.6852    ,  6.7968    ,  0.229     ,\n",
       "        5.1902    , 11.5375    , 10.6058    ,  6.1228    ,  0.108     ,\n",
       "        4.603     ,  0.5957    ,  7.507     ,  1.05125   ,  6.3048    ,\n",
       "        6.1098    ,  3.2993    , 11.1015    ,  7.4104    ,  8.12435   ,\n",
       "        6.45805   , 14.545     , 10.12445   ,  0.106     ,  9.2826    ,\n",
       "        1.606     ,  4.064     , 10.5665    ,  5.9657    ,  6.047     ,\n",
       "        0.6252    ,  4.03375   ,  0.403     ,  7.83165   ,  7.7895    ,\n",
       "        0.511     ,  3.6897    ,  0.1       ,  7.7255    ,  0.414     ,\n",
       "        0.259     ,  2.6068    ,  8.26695   ,  1.4       ,  8.3171    ,\n",
       "        6.2307    , 11.0058    ,  7.5293    ,  9.7926    ,  5.7192    ,\n",
       "        3.2316    ,  0.7662    ,  4.59998333,  0.112     ,  0.4665    ,\n",
       "        6.6586    ,  8.228     ,  6.8698    ,  5.8848    ,  0.432     ,\n",
       "        0.102     ,  5.59795   ,  0.3005    ,  0.524     ,  5.12425   ,\n",
       "        0.4       ,  5.4771    ,  9.1035    ,  3.332     ,  4.1132    ,\n",
       "        5.8488    ,  2.59625   ,  8.9489    ,  0.266     , 15.88      ,\n",
       "        9.1627    ,  7.2566    ,  6.683     ,  7.2542    ,  5.7217    ,\n",
       "        9.4704    ,  0.106     ,  9.2676    ,  0.575     , 12.908     ,\n",
       "       10.3919    ,  8.085     ,  4.492     ,  2.3085    ,  0.766     ,\n",
       "        7.137     ,  3.9006    ,  6.0043    ,  9.1584    ,  2.76476667,\n",
       "       11.763     ,  5.00215   ,  0.334     ,  2.194     ,  8.8628    ,\n",
       "        7.0144    ,  0.283     ,  4.666     ,  6.373     ,  7.32545   ,\n",
       "        1.5403    ,  0.2665    ,  5.4304    ,  3.9669    ,  9.0075    ,\n",
       "        0.203     ,  1.333     ,  9.596     ,  0.3005    ,  9.1919    ,\n",
       "        6.1652    ,  7.7198    ,  6.0915    ,  0.251     ,  0.318     ,\n",
       "        4.6921    ,  0.309     ,  0.312     ,  8.6441    ,  6.744     ,\n",
       "        1.039     ,  4.729     ,  3.27171667,  9.0792    ,  2.1575    ,\n",
       "       10.789     ,  7.0752    ,  8.0718    ,  0.728     ,  8.1032    ,\n",
       "       12.1035    ,  3.5325    ,  6.4781    ,  3.9793    ,  7.49      ,\n",
       "        9.13185   ,  7.1736    ,  5.0124    ,  7.3914    ,  2.54925   ,\n",
       "        8.0526    ,  8.3722    ,  6.948     ,  6.3341    ,  1.1815    ,\n",
       "        6.0574    ,  9.0126    ,  0.304     ,  6.47825   ,  8.1344    ,\n",
       "        9.7822    ,  3.7999    , 10.6118    ,  5.7748    ,  0.312     ,\n",
       "        5.91235   ,  6.9424    , 10.7013    ,  0.398     ,  6.0796    ,\n",
       "       11.3832    ,  0.332     ,  4.2645    ,  9.0108    ,  5.59265   ,\n",
       "        6.394     ,  9.0009    ,  5.1614    ,  3.07635   ,  7.235     ,\n",
       "       14.83      ,  0.188     ,  5.9965    ,  0.173     ,  0.43225   ,\n",
       "        9.4573    ,  0.403     ,  5.731     ,  1.483     ,  0.298     ,\n",
       "        0.5538    ,  4.7368    ,  2.26355   ,  7.5888    ,  6.5324    ,\n",
       "        8.1216    ,  8.2168    ,  1.702     ,  5.85675   ,  7.0808    ,\n",
       "        4.0344    ,  7.8265    ,  1.0876    ,  9.6143    ,  7.7708    ,\n",
       "        0.226     ,  0.173     ,  7.7504    ,  4.1284    ,  6.6398    ,\n",
       "        0.219     ,  5.211     ,  9.4316    ,  7.7564    ,  4.7693    ,\n",
       "        0.5894    ,  6.879     ,  5.92645   ,  4.9826    ,  5.6533    ,\n",
       "        4.3096    ,  8.2527    ,  5.868     ,  0.566     ,  6.4833    ,\n",
       "        1.5087    ,  0.67      ,  6.3244    ,  7.2994    ,  8.1062    ,\n",
       "       11.7789    ,  6.3952    ,  0.9717    ,  7.05      ,  1.6985    ,\n",
       "        5.4954    ,  6.9593    ,  0.105     ,  5.68395   ,  9.9382    ,\n",
       "        6.39755   , 13.0341    ,  4.3729    ,  6.00815   ,  4.09755   ,\n",
       "        5.7431    ,  9.2016    , 15.167     ,  0.7068    ,  7.5836    ,\n",
       "        5.71495   ,  2.5898    ,  2.9874    ,  0.164     ,  8.7009    ,\n",
       "        6.0481    ,  0.129     ,  2.709     ,  7.7939    , 11.4447    ,\n",
       "       10.8665    ,  7.1584    ,  6.7839    ,  3.68125   ,  6.0634    ,\n",
       "        0.103     ,  7.0385    ,  0.561     ,  6.4605    ,  0.7455    ,\n",
       "        0.7138    ,  0.1873    ,  7.4416    ,  8.04675   ,  5.66715   ,\n",
       "        4.0445    , 13.0179    ,  5.68575   ,  0.93      ,  4.52415   ,\n",
       "        5.15385   ,  5.3306    ,  0.4641    ,  5.2755    ,  4.337     ,\n",
       "        6.7936    ,  5.0575    ,  0.123     ,  5.8533    ,  7.3427    ,\n",
       "        7.835     ,  0.4428    ,  0.363     ,  4.9383    ,  7.2218    ,\n",
       "        8.9994    ,  6.4091    , 10.7209    ,  8.6616    ,  6.742     ,\n",
       "        0.3145    ,  7.1302    ,  5.6988    ,  6.6833    ,  0.514     ,\n",
       "        6.92      ,  4.53406667,  3.35595   ,  0.311     , 11.3085    ,\n",
       "        0.416     ,  4.9304    ,  0.14      ,  7.0655    ,  6.6766    ,\n",
       "        7.13315   ,  0.5564    ,  0.1       ,  0.101     ,  9.0744    ,\n",
       "        6.3497    ,  8.3221    , 16.548     , 16.008     ,  6.35      ,\n",
       "        5.1171    ,  5.4384    ,  5.4345    ,  0.276     ,  0.113     ,\n",
       "        3.45325   ,  3.9353    , 12.49165   ,  7.8406    , 14.257     ,\n",
       "        5.5729    ,  0.169     ,  7.7858    ,  3.4596    ,  6.8757    ,\n",
       "        7.8988    ,  8.1375    ,  0.572     ,  6.628     , 15.388     ,\n",
       "        5.0395    ,  7.189     ,  9.1112    ,  6.2846    ,  0.5811    ,\n",
       "       10.0661    ,  0.101     ,  3.12525   ,  0.161     ,  9.365     ,\n",
       "        6.2781    ,  7.4705    ,  5.9962    ,  9.2106    ,  9.0168    ,\n",
       "        1.8622    ,  7.7722    ,  1.03575   ,  5.34      , 11.121     ,\n",
       "        0.6476    ,  5.4147    ,  8.1483    ,  0.119     ,  1.6864    ,\n",
       "        9.9106    ,  7.793     ,  8.282     ,  7.02955   ,  0.1       ,\n",
       "        7.4099    ])"
      ]
     },
     "execution_count": 19,
     "metadata": {},
     "output_type": "execute_result"
    }
   ],
   "source": [
    "y_preds = model.predict(transformed_X_test)\n",
    "\n",
    "y_preds"
   ]
  },
  {
   "cell_type": "code",
   "execution_count": 20,
   "id": "56f932ba",
   "metadata": {
    "execution": {
     "iopub.execute_input": "2024-11-10T01:10:13.242656Z",
     "iopub.status.busy": "2024-11-10T01:10:13.241672Z",
     "iopub.status.idle": "2024-11-10T01:10:13.250365Z",
     "shell.execute_reply": "2024-11-10T01:10:13.249192Z",
     "shell.execute_reply.started": "2024-11-10T01:10:13.242610Z"
    },
    "trusted": true
   },
   "outputs": [
    {
     "data": {
      "text/plain": [
       "1.3838782801933824"
      ]
     },
     "execution_count": 20,
     "metadata": {},
     "output_type": "execute_result"
    }
   ],
   "source": [
    "from sklearn.metrics import mean_squared_error\n",
    "\n",
    "mse = mean_squared_error(y_test, y_preds)\n",
    "\n",
    "mse"
   ]
  },
  {
   "cell_type": "code",
   "execution_count": 21,
   "id": "663bc882",
   "metadata": {
    "execution": {
     "iopub.execute_input": "2024-11-10T01:10:14.261825Z",
     "iopub.status.busy": "2024-11-10T01:10:14.260903Z",
     "iopub.status.idle": "2024-11-10T01:10:14.269045Z",
     "shell.execute_reply": "2024-11-10T01:10:14.268050Z",
     "shell.execute_reply.started": "2024-11-10T01:10:14.261776Z"
    },
    "trusted": true
   },
   "outputs": [
    {
     "data": {
      "text/plain": [
       "0.6410449363425924"
      ]
     },
     "execution_count": 21,
     "metadata": {},
     "output_type": "execute_result"
    }
   ],
   "source": [
    "from sklearn.metrics import mean_absolute_error\n",
    "\n",
    "mae = mean_absolute_error(y_test, y_preds)\n",
    "\n",
    "mae"
   ]
  },
  {
   "cell_type": "code",
   "execution_count": 22,
   "id": "8d96d313",
   "metadata": {
    "execution": {
     "iopub.execute_input": "2024-11-10T01:10:15.241550Z",
     "iopub.status.busy": "2024-11-10T01:10:15.240775Z",
     "iopub.status.idle": "2024-11-10T01:10:15.248868Z",
     "shell.execute_reply": "2024-11-10T01:10:15.247897Z",
     "shell.execute_reply.started": "2024-11-10T01:10:15.241505Z"
    },
    "trusted": true
   },
   "outputs": [
    {
     "data": {
      "text/plain": [
       "0.9136378666175681"
      ]
     },
     "execution_count": 22,
     "metadata": {},
     "output_type": "execute_result"
    }
   ],
   "source": [
    "from sklearn.metrics import r2_score\n",
    "\n",
    "score = r2_score(y_test, y_preds)\n",
    "\n",
    "score"
   ]
  },
  {
   "cell_type": "code",
   "execution_count": 23,
   "id": "e6ec8330",
   "metadata": {
    "execution": {
     "iopub.execute_input": "2024-11-10T01:10:18.822467Z",
     "iopub.status.busy": "2024-11-10T01:10:18.821695Z",
     "iopub.status.idle": "2024-11-10T01:10:18.829092Z",
     "shell.execute_reply": "2024-11-10T01:10:18.828161Z",
     "shell.execute_reply.started": "2024-11-10T01:10:18.822421Z"
    },
    "trusted": true
   },
   "outputs": [
    {
     "data": {
      "text/plain": [
       "0.9116401660233125"
      ]
     },
     "execution_count": 23,
     "metadata": {},
     "output_type": "execute_result"
    }
   ],
   "source": [
    "adjusted_r2 = 1 - (1-score)*(len(y_test)-1)/(len(y_test)-transformed_X_test.shape[1]-1)\n",
    "\n",
    "adjusted_r2"
   ]
  },
  {
   "cell_type": "code",
   "execution_count": 24,
   "id": "2e93736d",
   "metadata": {
    "execution": {
     "iopub.execute_input": "2024-11-10T01:13:06.586853Z",
     "iopub.status.busy": "2024-11-10T01:13:06.585942Z",
     "iopub.status.idle": "2024-11-10T01:13:06.653146Z",
     "shell.execute_reply": "2024-11-10T01:13:06.652164Z",
     "shell.execute_reply.started": "2024-11-10T01:13:06.586804Z"
    },
    "trusted": true
   },
   "outputs": [
    {
     "data": {
      "text/plain": [
       "['random_forest_model.joblib']"
      ]
     },
     "execution_count": 24,
     "metadata": {},
     "output_type": "execute_result"
    }
   ],
   "source": [
    "import joblib\n",
    "\n",
    "joblib.dump(model, 'random_forest_model.joblib')\n"
   ]
  },
  {
   "cell_type": "code",
   "execution_count": 25,
   "id": "5c53c067",
   "metadata": {
    "trusted": true
   },
   "outputs": [],
   "source": [
    "import joblib\n",
    "\n",
    "model = joblib.load('random_forest_model.joblib')\n"
   ]
  },
  {
   "cell_type": "code",
   "execution_count": 26,
   "id": "5e231fb3",
   "metadata": {},
   "outputs": [
    {
     "ename": "AttributeError",
     "evalue": "'RandomForestRegressor' object has no attribute 'feature_names_in_'",
     "output_type": "error",
     "traceback": [
      "\u001b[1;31m---------------------------------------------------------------------------\u001b[0m",
      "\u001b[1;31mAttributeError\u001b[0m                            Traceback (most recent call last)",
      "Cell \u001b[1;32mIn[26], line 2\u001b[0m\n\u001b[0;32m      1\u001b[0m \u001b[38;5;66;03m# استعراض الميزات المتوقعة من النموذج\u001b[39;00m\n\u001b[1;32m----> 2\u001b[0m \u001b[38;5;28mprint\u001b[39m(\u001b[38;5;124m\"\u001b[39m\u001b[38;5;124mFeatures expected by the model:\u001b[39m\u001b[38;5;124m\"\u001b[39m, \u001b[43mmodel\u001b[49m\u001b[38;5;241;43m.\u001b[39;49m\u001b[43mfeature_names_in_\u001b[49m)\n",
      "\u001b[1;31mAttributeError\u001b[0m: 'RandomForestRegressor' object has no attribute 'feature_names_in_'"
     ]
    }
   ],
   "source": [
    "# استعراض الميزات المتوقعة من النموذج\n",
    "print(\"Features expected by the model:\", model.feature_names_in_)\n"
   ]
  },
  {
   "cell_type": "code",
   "execution_count": null,
   "id": "a3395887",
   "metadata": {},
   "outputs": [],
   "source": []
  }
 ],
 "metadata": {
  "kaggle": {
   "accelerator": "none",
   "dataSources": [
    {
     "datasetId": 1363800,
     "sourceId": 2285547,
     "sourceType": "datasetVersion"
    }
   ],
   "dockerImageVersionId": 30786,
   "isGpuEnabled": false,
   "isInternetEnabled": true,
   "language": "python",
   "sourceType": "notebook"
  },
  "kernelspec": {
   "display_name": "env_dlib",
   "language": "python",
   "name": "python3"
  },
  "language_info": {
   "codemirror_mode": {
    "name": "ipython",
    "version": 3
   },
   "file_extension": ".py",
   "mimetype": "text/x-python",
   "name": "python",
   "nbconvert_exporter": "python",
   "pygments_lexer": "ipython3",
   "version": "3.12.3"
  }
 },
 "nbformat": 4,
 "nbformat_minor": 5
}
